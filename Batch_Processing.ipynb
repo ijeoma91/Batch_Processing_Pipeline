{
  "nbformat": 4,
  "nbformat_minor": 0,
  "metadata": {
    "colab": {
      "provenance": [],
      "authorship_tag": "ABX9TyNOGp7N3N0v+/peENN5sTj0",
      "include_colab_link": true
    },
    "kernelspec": {
      "name": "python3",
      "display_name": "Python 3"
    },
    "language_info": {
      "name": "python"
    }
  },
  "cells": [
    {
      "cell_type": "markdown",
      "metadata": {
        "id": "view-in-github",
        "colab_type": "text"
      },
      "source": [
        "<a href=\"https://colab.research.google.com/github/ijeoma91/Batch_Processing_Pipeline/blob/main/Batch_Processing.ipynb\" target=\"_parent\"><img src=\"https://colab.research.google.com/assets/colab-badge.svg\" alt=\"Open In Colab\"/></a>"
      ]
    },
    {
      "cell_type": "code",
      "execution_count": 1,
      "metadata": {
        "colab": {
          "base_uri": "https://localhost:8080/"
        },
        "id": "zALL9iylX1aK",
        "outputId": "19ba1a6d-d4cb-4185-db58-aa7182ca0638"
      },
      "outputs": [
        {
          "output_type": "stream",
          "name": "stdout",
          "text": [
            "Collecting pyspark\n",
            "  Downloading pyspark-3.5.1.tar.gz (317.0 MB)\n",
            "\u001b[2K     \u001b[90m━━━━━━━━━━━━━━━━━━━━━━━━━━━━━━━━━━━━━━━━\u001b[0m \u001b[32m317.0/317.0 MB\u001b[0m \u001b[31m4.0 MB/s\u001b[0m eta \u001b[36m0:00:00\u001b[0m\n",
            "\u001b[?25h  Preparing metadata (setup.py) ... \u001b[?25l\u001b[?25hdone\n",
            "Requirement already satisfied: py4j==0.10.9.7 in /usr/local/lib/python3.10/dist-packages (from pyspark) (0.10.9.7)\n",
            "Building wheels for collected packages: pyspark\n",
            "  Building wheel for pyspark (setup.py) ... \u001b[?25l\u001b[?25hdone\n",
            "  Created wheel for pyspark: filename=pyspark-3.5.1-py2.py3-none-any.whl size=317488491 sha256=3a606e82fd1621e877780c36f88438fcb529836f6ec012b26c5fa93e3c2d65dd\n",
            "  Stored in directory: /root/.cache/pip/wheels/80/1d/60/2c256ed38dddce2fdd93be545214a63e02fbd8d74fb0b7f3a6\n",
            "Successfully built pyspark\n",
            "Installing collected packages: pyspark\n",
            "Successfully installed pyspark-3.5.1\n"
          ]
        }
      ],
      "source": [
        "pip install pyspark"
      ]
    },
    {
      "cell_type": "code",
      "source": [
        "pip install spark"
      ],
      "metadata": {
        "colab": {
          "base_uri": "https://localhost:8080/"
        },
        "id": "fzXfFLJ6ZoDG",
        "outputId": "b85d3c1a-72b0-4daf-8d41-ffa62b4b88fa"
      },
      "execution_count": 2,
      "outputs": [
        {
          "output_type": "stream",
          "name": "stdout",
          "text": [
            "Collecting spark\n",
            "  Downloading spark-0.2.1.tar.gz (41 kB)\n",
            "\u001b[?25l     \u001b[90m━━━━━━━━━━━━━━━━━━━━━━━━━━━━━━━━━━━━━━━━\u001b[0m \u001b[32m0.0/41.0 kB\u001b[0m \u001b[31m?\u001b[0m eta \u001b[36m-:--:--\u001b[0m\r\u001b[2K     \u001b[90m━━━━━━━━━━━━━━━━━━━━━━━━━━━━━━━━━━━━━━━━\u001b[0m \u001b[32m41.0/41.0 kB\u001b[0m \u001b[31m1.0 MB/s\u001b[0m eta \u001b[36m0:00:00\u001b[0m\n",
            "\u001b[?25h  Preparing metadata (setup.py) ... \u001b[?25l\u001b[?25hdone\n",
            "Building wheels for collected packages: spark\n",
            "  Building wheel for spark (setup.py) ... \u001b[?25l\u001b[?25hdone\n",
            "  Created wheel for spark: filename=spark-0.2.1-py3-none-any.whl size=58749 sha256=7cf288e5ccd334856fec385aef2e6587b12232aba4bbeed8b7faf4f9bd0a626c\n",
            "  Stored in directory: /root/.cache/pip/wheels/63/88/77/b4131110ea4094540f7b47c6d62a649807d7e94800da5eab0b\n",
            "Successfully built spark\n",
            "Installing collected packages: spark\n",
            "Successfully installed spark-0.2.1\n"
          ]
        }
      ]
    },
    {
      "cell_type": "code",
      "source": [
        "pip install cassandra-driver"
      ],
      "metadata": {
        "colab": {
          "base_uri": "https://localhost:8080/"
        },
        "id": "An3bbhCEbHHy",
        "outputId": "460fe16e-1ed7-4003-cc7f-e2b5954969b9"
      },
      "execution_count": 3,
      "outputs": [
        {
          "output_type": "stream",
          "name": "stdout",
          "text": [
            "Collecting cassandra-driver\n",
            "  Downloading cassandra_driver-3.29.1-cp310-cp310-manylinux_2_17_x86_64.manylinux2014_x86_64.whl (18.9 MB)\n",
            "\u001b[2K     \u001b[90m━━━━━━━━━━━━━━━━━━━━━━━━━━━━━━━━━━━━━━━━\u001b[0m \u001b[32m18.9/18.9 MB\u001b[0m \u001b[31m17.4 MB/s\u001b[0m eta \u001b[36m0:00:00\u001b[0m\n",
            "\u001b[?25hCollecting geomet<0.3,>=0.1 (from cassandra-driver)\n",
            "  Downloading geomet-0.2.1.post1-py3-none-any.whl (18 kB)\n",
            "Requirement already satisfied: click in /usr/local/lib/python3.10/dist-packages (from geomet<0.3,>=0.1->cassandra-driver) (8.1.7)\n",
            "Requirement already satisfied: six in /usr/local/lib/python3.10/dist-packages (from geomet<0.3,>=0.1->cassandra-driver) (1.16.0)\n",
            "Installing collected packages: geomet, cassandra-driver\n",
            "Successfully installed cassandra-driver-3.29.1 geomet-0.2.1.post1\n"
          ]
        }
      ]
    },
    {
      "cell_type": "code",
      "source": [
        "pip install datetime"
      ],
      "metadata": {
        "colab": {
          "base_uri": "https://localhost:8080/"
        },
        "id": "a2edECBicSjf",
        "outputId": "3909c02a-ee25-4533-d70f-f1b3b4125fda"
      },
      "execution_count": 4,
      "outputs": [
        {
          "output_type": "stream",
          "name": "stdout",
          "text": [
            "Collecting datetime\n",
            "  Downloading DateTime-5.5-py3-none-any.whl (52 kB)\n",
            "\u001b[2K     \u001b[90m━━━━━━━━━━━━━━━━━━━━━━━━━━━━━━━━━━━━━━━━\u001b[0m \u001b[32m52.6/52.6 kB\u001b[0m \u001b[31m1.6 MB/s\u001b[0m eta \u001b[36m0:00:00\u001b[0m\n",
            "\u001b[?25hCollecting zope.interface (from datetime)\n",
            "  Downloading zope.interface-6.2-cp310-cp310-manylinux_2_5_x86_64.manylinux1_x86_64.manylinux_2_17_x86_64.manylinux2014_x86_64.whl (247 kB)\n",
            "\u001b[2K     \u001b[90m━━━━━━━━━━━━━━━━━━━━━━━━━━━━━━━━━━━━━━━━\u001b[0m \u001b[32m247.3/247.3 kB\u001b[0m \u001b[31m6.6 MB/s\u001b[0m eta \u001b[36m0:00:00\u001b[0m\n",
            "\u001b[?25hRequirement already satisfied: pytz in /usr/local/lib/python3.10/dist-packages (from datetime) (2023.4)\n",
            "Requirement already satisfied: setuptools in /usr/local/lib/python3.10/dist-packages (from zope.interface->datetime) (67.7.2)\n",
            "Installing collected packages: zope.interface, datetime\n",
            "Successfully installed datetime-5.5 zope.interface-6.2\n"
          ]
        }
      ]
    },
    {
      "cell_type": "code",
      "source": [
        "pip install timedelta"
      ],
      "metadata": {
        "colab": {
          "base_uri": "https://localhost:8080/"
        },
        "id": "xmpWze9Qhp27",
        "outputId": "d2295318-3a92-4429-c0e5-13f2a85a7a7c"
      },
      "execution_count": 5,
      "outputs": [
        {
          "output_type": "stream",
          "name": "stdout",
          "text": [
            "Collecting timedelta\n",
            "  Downloading timedelta-2020.12.3.tar.gz (1.6 kB)\n",
            "  Preparing metadata (setup.py) ... \u001b[?25l\u001b[?25hdone\n",
            "Building wheels for collected packages: timedelta\n",
            "  Building wheel for timedelta (setup.py) ... \u001b[?25l\u001b[?25hdone\n",
            "  Created wheel for timedelta: filename=timedelta-2020.12.3-py3-none-any.whl size=1556 sha256=6ebfde4731f5b6983ec3e2ac8a2d5713d49cd257afe0a51b1fb4f5446aacf462\n",
            "  Stored in directory: /root/.cache/pip/wheels/be/c0/1f/843bd73679dc7dfb26758c4effc6e273d3eebf2da2a35082b1\n",
            "Successfully built timedelta\n",
            "Installing collected packages: timedelta\n",
            "Successfully installed timedelta-2020.12.3\n"
          ]
        }
      ]
    },
    {
      "cell_type": "code",
      "source": [
        "pip install jupyter-dash"
      ],
      "metadata": {
        "colab": {
          "base_uri": "https://localhost:8080/"
        },
        "id": "Dhyx2GBDKig9",
        "outputId": "cd938acc-6541-4019-f563-3631ff03d2c8"
      },
      "execution_count": 6,
      "outputs": [
        {
          "output_type": "stream",
          "name": "stdout",
          "text": [
            "Collecting jupyter-dash\n",
            "  Downloading jupyter_dash-0.4.2-py3-none-any.whl (23 kB)\n",
            "Collecting dash (from jupyter-dash)\n",
            "  Downloading dash-2.16.1-py3-none-any.whl (10.2 MB)\n",
            "\u001b[2K     \u001b[90m━━━━━━━━━━━━━━━━━━━━━━━━━━━━━━━━━━━━━━━━\u001b[0m \u001b[32m10.2/10.2 MB\u001b[0m \u001b[31m53.3 MB/s\u001b[0m eta \u001b[36m0:00:00\u001b[0m\n",
            "\u001b[?25hRequirement already satisfied: requests in /usr/local/lib/python3.10/dist-packages (from jupyter-dash) (2.31.0)\n",
            "Requirement already satisfied: flask in /usr/local/lib/python3.10/dist-packages (from jupyter-dash) (2.2.5)\n",
            "Collecting retrying (from jupyter-dash)\n",
            "  Downloading retrying-1.3.4-py3-none-any.whl (11 kB)\n",
            "Requirement already satisfied: ipython in /usr/local/lib/python3.10/dist-packages (from jupyter-dash) (7.34.0)\n",
            "Requirement already satisfied: ipykernel in /usr/local/lib/python3.10/dist-packages (from jupyter-dash) (5.5.6)\n",
            "Collecting ansi2html (from jupyter-dash)\n",
            "  Downloading ansi2html-1.9.1-py3-none-any.whl (17 kB)\n",
            "Requirement already satisfied: nest-asyncio in /usr/local/lib/python3.10/dist-packages (from jupyter-dash) (1.6.0)\n",
            "Requirement already satisfied: Werkzeug<3.1 in /usr/local/lib/python3.10/dist-packages (from dash->jupyter-dash) (3.0.1)\n",
            "Requirement already satisfied: plotly>=5.0.0 in /usr/local/lib/python3.10/dist-packages (from dash->jupyter-dash) (5.15.0)\n",
            "Collecting dash-html-components==2.0.0 (from dash->jupyter-dash)\n",
            "  Downloading dash_html_components-2.0.0-py3-none-any.whl (4.1 kB)\n",
            "Collecting dash-core-components==2.0.0 (from dash->jupyter-dash)\n",
            "  Downloading dash_core_components-2.0.0-py3-none-any.whl (3.8 kB)\n",
            "Collecting dash-table==5.0.0 (from dash->jupyter-dash)\n",
            "  Downloading dash_table-5.0.0-py3-none-any.whl (3.9 kB)\n",
            "Requirement already satisfied: importlib-metadata in /usr/local/lib/python3.10/dist-packages (from dash->jupyter-dash) (7.1.0)\n",
            "Requirement already satisfied: typing-extensions>=4.1.1 in /usr/local/lib/python3.10/dist-packages (from dash->jupyter-dash) (4.10.0)\n",
            "Requirement already satisfied: setuptools in /usr/local/lib/python3.10/dist-packages (from dash->jupyter-dash) (67.7.2)\n",
            "Requirement already satisfied: Jinja2>=3.0 in /usr/local/lib/python3.10/dist-packages (from flask->jupyter-dash) (3.1.3)\n",
            "Requirement already satisfied: itsdangerous>=2.0 in /usr/local/lib/python3.10/dist-packages (from flask->jupyter-dash) (2.1.2)\n",
            "Requirement already satisfied: click>=8.0 in /usr/local/lib/python3.10/dist-packages (from flask->jupyter-dash) (8.1.7)\n",
            "Requirement already satisfied: ipython-genutils in /usr/local/lib/python3.10/dist-packages (from ipykernel->jupyter-dash) (0.2.0)\n",
            "Requirement already satisfied: traitlets>=4.1.0 in /usr/local/lib/python3.10/dist-packages (from ipykernel->jupyter-dash) (5.7.1)\n",
            "Requirement already satisfied: jupyter-client in /usr/local/lib/python3.10/dist-packages (from ipykernel->jupyter-dash) (6.1.12)\n",
            "Requirement already satisfied: tornado>=4.2 in /usr/local/lib/python3.10/dist-packages (from ipykernel->jupyter-dash) (6.3.3)\n",
            "Collecting jedi>=0.16 (from ipython->jupyter-dash)\n",
            "  Downloading jedi-0.19.1-py2.py3-none-any.whl (1.6 MB)\n",
            "\u001b[2K     \u001b[90m━━━━━━━━━━━━━━━━━━━━━━━━━━━━━━━━━━━━━━━━\u001b[0m \u001b[32m1.6/1.6 MB\u001b[0m \u001b[31m75.0 MB/s\u001b[0m eta \u001b[36m0:00:00\u001b[0m\n",
            "\u001b[?25hRequirement already satisfied: decorator in /usr/local/lib/python3.10/dist-packages (from ipython->jupyter-dash) (4.4.2)\n",
            "Requirement already satisfied: pickleshare in /usr/local/lib/python3.10/dist-packages (from ipython->jupyter-dash) (0.7.5)\n",
            "Requirement already satisfied: prompt-toolkit!=3.0.0,!=3.0.1,<3.1.0,>=2.0.0 in /usr/local/lib/python3.10/dist-packages (from ipython->jupyter-dash) (3.0.43)\n",
            "Requirement already satisfied: pygments in /usr/local/lib/python3.10/dist-packages (from ipython->jupyter-dash) (2.16.1)\n",
            "Requirement already satisfied: backcall in /usr/local/lib/python3.10/dist-packages (from ipython->jupyter-dash) (0.2.0)\n",
            "Requirement already satisfied: matplotlib-inline in /usr/local/lib/python3.10/dist-packages (from ipython->jupyter-dash) (0.1.6)\n",
            "Requirement already satisfied: pexpect>4.3 in /usr/local/lib/python3.10/dist-packages (from ipython->jupyter-dash) (4.9.0)\n",
            "Requirement already satisfied: charset-normalizer<4,>=2 in /usr/local/lib/python3.10/dist-packages (from requests->jupyter-dash) (3.3.2)\n",
            "Requirement already satisfied: idna<4,>=2.5 in /usr/local/lib/python3.10/dist-packages (from requests->jupyter-dash) (3.6)\n",
            "Requirement already satisfied: urllib3<3,>=1.21.1 in /usr/local/lib/python3.10/dist-packages (from requests->jupyter-dash) (2.0.7)\n",
            "Requirement already satisfied: certifi>=2017.4.17 in /usr/local/lib/python3.10/dist-packages (from requests->jupyter-dash) (2024.2.2)\n",
            "Requirement already satisfied: six>=1.7.0 in /usr/local/lib/python3.10/dist-packages (from retrying->jupyter-dash) (1.16.0)\n",
            "Requirement already satisfied: parso<0.9.0,>=0.8.3 in /usr/local/lib/python3.10/dist-packages (from jedi>=0.16->ipython->jupyter-dash) (0.8.3)\n",
            "Requirement already satisfied: MarkupSafe>=2.0 in /usr/local/lib/python3.10/dist-packages (from Jinja2>=3.0->flask->jupyter-dash) (2.1.5)\n",
            "Requirement already satisfied: ptyprocess>=0.5 in /usr/local/lib/python3.10/dist-packages (from pexpect>4.3->ipython->jupyter-dash) (0.7.0)\n",
            "Requirement already satisfied: tenacity>=6.2.0 in /usr/local/lib/python3.10/dist-packages (from plotly>=5.0.0->dash->jupyter-dash) (8.2.3)\n",
            "Requirement already satisfied: packaging in /usr/local/lib/python3.10/dist-packages (from plotly>=5.0.0->dash->jupyter-dash) (24.0)\n",
            "Requirement already satisfied: wcwidth in /usr/local/lib/python3.10/dist-packages (from prompt-toolkit!=3.0.0,!=3.0.1,<3.1.0,>=2.0.0->ipython->jupyter-dash) (0.2.13)\n",
            "Requirement already satisfied: zipp>=0.5 in /usr/local/lib/python3.10/dist-packages (from importlib-metadata->dash->jupyter-dash) (3.18.1)\n",
            "Requirement already satisfied: jupyter-core>=4.6.0 in /usr/local/lib/python3.10/dist-packages (from jupyter-client->ipykernel->jupyter-dash) (5.7.2)\n",
            "Requirement already satisfied: pyzmq>=13 in /usr/local/lib/python3.10/dist-packages (from jupyter-client->ipykernel->jupyter-dash) (23.2.1)\n",
            "Requirement already satisfied: python-dateutil>=2.1 in /usr/local/lib/python3.10/dist-packages (from jupyter-client->ipykernel->jupyter-dash) (2.8.2)\n",
            "Requirement already satisfied: platformdirs>=2.5 in /usr/local/lib/python3.10/dist-packages (from jupyter-core>=4.6.0->jupyter-client->ipykernel->jupyter-dash) (4.2.0)\n",
            "Installing collected packages: dash-table, dash-html-components, dash-core-components, retrying, jedi, ansi2html, dash, jupyter-dash\n",
            "Successfully installed ansi2html-1.9.1 dash-2.16.1 dash-core-components-2.0.0 dash-html-components-2.0.0 dash-table-5.0.0 jedi-0.19.1 jupyter-dash-0.4.2 retrying-1.3.4\n"
          ]
        }
      ]
    },
    {
      "cell_type": "code",
      "source": [
        "pip install pyngrok"
      ],
      "metadata": {
        "colab": {
          "base_uri": "https://localhost:8080/"
        },
        "id": "GBCSdecNRxB5",
        "outputId": "fdbaf5c4-c492-43c6-d718-7d05aed6d251"
      },
      "execution_count": 7,
      "outputs": [
        {
          "output_type": "stream",
          "name": "stdout",
          "text": [
            "Collecting pyngrok\n",
            "  Downloading pyngrok-7.1.6-py3-none-any.whl (22 kB)\n",
            "Requirement already satisfied: PyYAML>=5.1 in /usr/local/lib/python3.10/dist-packages (from pyngrok) (6.0.1)\n",
            "Installing collected packages: pyngrok\n",
            "Successfully installed pyngrok-7.1.6\n"
          ]
        }
      ]
    },
    {
      "cell_type": "code",
      "source": [
        "! ngrok authtoken 2eWmBka8I8O6dJGkz6BO9XhP2hN_c7jsE4CwP8fjbqwidHdE\n",
        "#from pyngrok import ngrok"
      ],
      "metadata": {
        "colab": {
          "base_uri": "https://localhost:8080/"
        },
        "id": "EHTBYGKrR5U-",
        "outputId": "aca5db36-1de5-4a75-f51f-37c9615919bf"
      },
      "execution_count": 8,
      "outputs": [
        {
          "output_type": "stream",
          "name": "stdout",
          "text": [
            "Authtoken saved to configuration file: /root/.config/ngrok/ngrok.yml\n"
          ]
        }
      ]
    },
    {
      "cell_type": "code",
      "source": [
        "import plotly.express as px\n",
        "from jupyter_dash import JupyterDash\n",
        "#import dash_core_components as dcc\n",
        "from dash import dcc\n",
        "from dash import html\n",
        "import dash_html_components as html"
      ],
      "metadata": {
        "id": "y9Ik1mq1Nr01"
      },
      "execution_count": 10,
      "outputs": []
    },
    {
      "cell_type": "markdown",
      "source": [],
      "metadata": {
        "id": "5IPXP2veOetL"
      }
    },
    {
      "cell_type": "code",
      "source": [
        "\n",
        "import os\n",
        "packages = [\"pandas\", \"schedule\", \"cassandra-driver\"]\n",
        "for packages in packages:\n",
        "  os.system(f'pip install {packages}')"
      ],
      "metadata": {
        "id": "fQ4mrEAsZ794"
      },
      "execution_count": 11,
      "outputs": []
    },
    {
      "cell_type": "code",
      "source": [
        "import pandas as pd\n",
        "import datetime\n",
        "#from datetime import datatime, timedelta\n",
        "import time\n",
        "import timedelta"
      ],
      "metadata": {
        "id": "HOjCUBl1bz9F"
      },
      "execution_count": 12,
      "outputs": []
    },
    {
      "cell_type": "code",
      "source": [
        "from pyspark import SparkContext\n",
        "from pyspark.sql import SparkSession\n",
        "from pyspark.sql.functions import col, to_timestamp\n",
        "from pyspark.sql import functions as F\n",
        "from pyspark.sql.types import *"
      ],
      "metadata": {
        "id": "4lA0h5ZujCfF"
      },
      "execution_count": 13,
      "outputs": []
    },
    {
      "cell_type": "code",
      "source": [
        "from pyspark.sql import SparkSession\n",
        "\n",
        "# Initialize SparkSession\n",
        "spark = SparkSession.builder.appName(\"My Data Batch Processing\").getOrCreate()\n",
        "\n",
        "# Replace 'dataset path' with the actual path to your CSV file\n",
        "Batch_df = spark.read.csv(\"/content/iot_telemetry_data.csv\", header=True, sep=',')\n",
        "\n",
        "# Show the original DataFrame\n",
        "print(\"Original DataFrame:\")\n",
        "Batch_df.show()\n",
        "\n",
        "# Function to clean and uppercase column names\n",
        "def clean_and_uppercase(name):\n",
        "    # Remove unwanted characters (example: spaces and special characters)\n",
        "    cleaned_name = ''.join(e for e in name if e.isalnum())\n",
        "    # Make sure the first letter is uppercase\n",
        "    cleaned_name = cleaned_name[0].upper() + cleaned_name[1:]\n",
        "    return cleaned_name\n",
        "\n",
        "# Rename columns\n",
        "for col_name in Batch_df.columns:\n",
        "    new_col_name = clean_and_uppercase(col_name)\n",
        "    Batch_df = Batch_df.withColumnRenamed(col_name, new_col_name)\n",
        "\n",
        "# Show the modified DataFrame\n",
        "print(\"Modified DataFrame:\")\n",
        "Batch_df.show()"
      ],
      "metadata": {
        "colab": {
          "base_uri": "https://localhost:8080/"
        },
        "id": "cQeQAQpwBvBJ",
        "outputId": "48d92bc8-69fb-482e-b63b-c2cfea8be1ea"
      },
      "execution_count": 23,
      "outputs": [
        {
          "output_type": "stream",
          "name": "stdout",
          "text": [
            "Original DataFrame:\n",
            "+--------------------+--------------------+--------------------+---------+--------------------+----------+--------------------+--------------------+\n",
            "|      \"ts,\"\"device\"\"|              \"\"co\"\"|        \"\"humidity\"\"|\"\"light\"\"|             \"\"lpg\"\"|\"\"motion\"\"|           \"\"smoke\"\"|           \"\"temp\"\"\"|\n",
            "+--------------------+--------------------+--------------------+---------+--------------------+----------+--------------------+--------------------+\n",
            "|\"1.59451209438597...|\"\"0.0049559386483...|            \"\"51.0\"\"|\"\"false\"\"|\"\"0.0076508222705...| \"\"false\"\"|\"\"0.0204112701224...|           \"\"22.7\"\"\"|\n",
            "|\"1.59451209473556...|\"\"0.0028400886071...|            \"\"76.0\"\"|\"\"false\"\"|\"\"0.0051143834009...| \"\"false\"\"|\"\"0.0132748367048...|\"\"19.700000762939...|\n",
            "|\"1.59451209807357...|\"\"0.0049760123404...|            \"\"50.9\"\"|\"\"false\"\"|\"\"0.0076732274063...| \"\"false\"\"|\"\"0.0204751255761...|           \"\"22.6\"\"\"|\n",
            "|\"1.59451209958914...|\"\"0.0044030268296...|\"\"76.800003051757...| \"\"true\"\"|\"\"0.0070233371458...| \"\"false\"\"|\"\"0.0186282253770...|           \"\"27.0\"\"\"|\n",
            "|\"1.59451210176123...|\"\"0.0049673636419...|            \"\"50.9\"\"|\"\"false\"\"|\"\"0.0076635772823...| \"\"false\"\"|\"\"0.0204476208102...|           \"\"22.6\"\"\"|\n",
            "|\"1.59451210446841...|\"\"0.0043910039545...|\"\"77.9000015258789\"\"| \"\"true\"\"|\"\"0.0070094585431...| \"\"false\"\"|\"\"0.0185889075400...|           \"\"27.0\"\"\"|\n",
            "|\"1.59451210544886...|\"\"0.0049760251182...|            \"\"50.9\"\"|\"\"false\"\"|\"\"0.0076732416602...| \"\"false\"\"|\"\"0.0204751662043...|           \"\"22.6\"\"\"|\n",
            "|\"1.59451210686907...|\"\"0.0029381156266...|            \"\"76.0\"\"|\"\"false\"\"|\"\"0.0052414818417...| \"\"false\"\"|\"\"0.0136275211320...|\"\"19.700000762939...|\n",
            "|\"1.59451210827538...|\"\"0.0043454713595...|\"\"77.9000015258789\"\"| \"\"true\"\"|\"\"0.0069568023772...| \"\"false\"\"|\"\"0.0184397819021...|           \"\"27.0\"\"\"|\n",
            "|\"1.59451210913668...|\"\"0.0049702557644...|            \"\"50.9\"\"|\"\"false\"\"|\"\"0.0076668047981...| \"\"false\"\"|\"\"0.0204568196070...|           \"\"22.6\"\"\"|\n",
            "|\"1.59451211279851...|\"\"0.0049602086559...|            \"\"50.9\"\"|\"\"false\"\"|\"\"0.0076555903135...| \"\"false\"\"|\"\"0.0204248581520...|           \"\"22.6\"\"\"|\n",
            "|\"1.59451211528854...|\"\"0.0043830438373...|            \"\"78.0\"\"| \"\"true\"\"|\"\"0.0070002640007...| \"\"false\"\"|\"\"0.0185628624857...|           \"\"27.0\"\"\"|\n",
            "|\"1.59451211649826...|\"\"0.0049716449493...|            \"\"50.9\"\"|\"\"false\"\"|\"\"0.0076683548991...| \"\"false\"\"|\"\"0.0204612376699...|           \"\"22.6\"\"\"|\n",
            "|\"1.59451211909801...|\"\"0.0044514976308...|            \"\"78.0\"\"| \"\"true\"\"|\"\"0.0070791835001...| \"\"false\"\"|\"\"0.0187864905644...|           \"\"27.0\"\"\"|\n",
            "|\"1.59451212018493...|\"\"0.0049645645184...|            \"\"50.9\"\"|\"\"false\"\"|\"\"0.0076604530556...| \"\"false\"\"|\"\"0.0204387166506...|           \"\"22.6\"\"\"|\n",
            "|\"1.59451212278573...|\"\"0.0029050147565...|\"\"75.800003051757...|\"\"false\"\"|\"\"0.0051986974792...| \"\"false\"\"|\"\"0.0135087333295...|\"\"19.700000762939...|\n",
            "|\"1.59451212387261...|\"\"0.0049759834197...|            \"\"50.9\"\"|\"\"false\"\"|\"\"0.0076731951447...| \"\"false\"\"|\"\"0.0204750336202...|           \"\"22.6\"\"\"|\n",
            "|\"1.59451212756018...|\"\"0.0049602086559...|            \"\"50.9\"\"|\"\"false\"\"|\"\"0.0076555903135...| \"\"false\"\"|\"\"0.0204248581520...|           \"\"22.6\"\"\"|\n",
            "|\"1.59451212937415...|\"\"0.0044393227660...|\"\"77.9000015258789\"\"| \"\"true\"\"|\"\"0.0070651719347...| \"\"false\"\"|\"\"0.0187467746098...|           \"\"27.0\"\"\"|\n",
            "|\"1.59451213124780...|\"\"0.0049561192016...|            \"\"50.9\"\"|\"\"false\"\"|\"\"0.0076510239057...| \"\"false\"\"|\"\"0.0204118447333...|           \"\"22.6\"\"\"|\n",
            "+--------------------+--------------------+--------------------+---------+--------------------+----------+--------------------+--------------------+\n",
            "only showing top 20 rows\n",
            "\n",
            "Modified DataFrame:\n",
            "+--------------------+--------------------+--------------------+---------+--------------------+---------+--------------------+--------------------+\n",
            "|            Tsdevice|                  Co|            Humidity|    Light|                 Lpg|   Motion|               Smoke|                Temp|\n",
            "+--------------------+--------------------+--------------------+---------+--------------------+---------+--------------------+--------------------+\n",
            "|\"1.59451209438597...|\"\"0.0049559386483...|            \"\"51.0\"\"|\"\"false\"\"|\"\"0.0076508222705...|\"\"false\"\"|\"\"0.0204112701224...|           \"\"22.7\"\"\"|\n",
            "|\"1.59451209473556...|\"\"0.0028400886071...|            \"\"76.0\"\"|\"\"false\"\"|\"\"0.0051143834009...|\"\"false\"\"|\"\"0.0132748367048...|\"\"19.700000762939...|\n",
            "|\"1.59451209807357...|\"\"0.0049760123404...|            \"\"50.9\"\"|\"\"false\"\"|\"\"0.0076732274063...|\"\"false\"\"|\"\"0.0204751255761...|           \"\"22.6\"\"\"|\n",
            "|\"1.59451209958914...|\"\"0.0044030268296...|\"\"76.800003051757...| \"\"true\"\"|\"\"0.0070233371458...|\"\"false\"\"|\"\"0.0186282253770...|           \"\"27.0\"\"\"|\n",
            "|\"1.59451210176123...|\"\"0.0049673636419...|            \"\"50.9\"\"|\"\"false\"\"|\"\"0.0076635772823...|\"\"false\"\"|\"\"0.0204476208102...|           \"\"22.6\"\"\"|\n",
            "|\"1.59451210446841...|\"\"0.0043910039545...|\"\"77.9000015258789\"\"| \"\"true\"\"|\"\"0.0070094585431...|\"\"false\"\"|\"\"0.0185889075400...|           \"\"27.0\"\"\"|\n",
            "|\"1.59451210544886...|\"\"0.0049760251182...|            \"\"50.9\"\"|\"\"false\"\"|\"\"0.0076732416602...|\"\"false\"\"|\"\"0.0204751662043...|           \"\"22.6\"\"\"|\n",
            "|\"1.59451210686907...|\"\"0.0029381156266...|            \"\"76.0\"\"|\"\"false\"\"|\"\"0.0052414818417...|\"\"false\"\"|\"\"0.0136275211320...|\"\"19.700000762939...|\n",
            "|\"1.59451210827538...|\"\"0.0043454713595...|\"\"77.9000015258789\"\"| \"\"true\"\"|\"\"0.0069568023772...|\"\"false\"\"|\"\"0.0184397819021...|           \"\"27.0\"\"\"|\n",
            "|\"1.59451210913668...|\"\"0.0049702557644...|            \"\"50.9\"\"|\"\"false\"\"|\"\"0.0076668047981...|\"\"false\"\"|\"\"0.0204568196070...|           \"\"22.6\"\"\"|\n",
            "|\"1.59451211279851...|\"\"0.0049602086559...|            \"\"50.9\"\"|\"\"false\"\"|\"\"0.0076555903135...|\"\"false\"\"|\"\"0.0204248581520...|           \"\"22.6\"\"\"|\n",
            "|\"1.59451211528854...|\"\"0.0043830438373...|            \"\"78.0\"\"| \"\"true\"\"|\"\"0.0070002640007...|\"\"false\"\"|\"\"0.0185628624857...|           \"\"27.0\"\"\"|\n",
            "|\"1.59451211649826...|\"\"0.0049716449493...|            \"\"50.9\"\"|\"\"false\"\"|\"\"0.0076683548991...|\"\"false\"\"|\"\"0.0204612376699...|           \"\"22.6\"\"\"|\n",
            "|\"1.59451211909801...|\"\"0.0044514976308...|            \"\"78.0\"\"| \"\"true\"\"|\"\"0.0070791835001...|\"\"false\"\"|\"\"0.0187864905644...|           \"\"27.0\"\"\"|\n",
            "|\"1.59451212018493...|\"\"0.0049645645184...|            \"\"50.9\"\"|\"\"false\"\"|\"\"0.0076604530556...|\"\"false\"\"|\"\"0.0204387166506...|           \"\"22.6\"\"\"|\n",
            "|\"1.59451212278573...|\"\"0.0029050147565...|\"\"75.800003051757...|\"\"false\"\"|\"\"0.0051986974792...|\"\"false\"\"|\"\"0.0135087333295...|\"\"19.700000762939...|\n",
            "|\"1.59451212387261...|\"\"0.0049759834197...|            \"\"50.9\"\"|\"\"false\"\"|\"\"0.0076731951447...|\"\"false\"\"|\"\"0.0204750336202...|           \"\"22.6\"\"\"|\n",
            "|\"1.59451212756018...|\"\"0.0049602086559...|            \"\"50.9\"\"|\"\"false\"\"|\"\"0.0076555903135...|\"\"false\"\"|\"\"0.0204248581520...|           \"\"22.6\"\"\"|\n",
            "|\"1.59451212937415...|\"\"0.0044393227660...|\"\"77.9000015258789\"\"| \"\"true\"\"|\"\"0.0070651719347...|\"\"false\"\"|\"\"0.0187467746098...|           \"\"27.0\"\"\"|\n",
            "|\"1.59451213124780...|\"\"0.0049561192016...|            \"\"50.9\"\"|\"\"false\"\"|\"\"0.0076510239057...|\"\"false\"\"|\"\"0.0204118447333...|           \"\"22.6\"\"\"|\n",
            "+--------------------+--------------------+--------------------+---------+--------------------+---------+--------------------+--------------------+\n",
            "only showing top 20 rows\n",
            "\n"
          ]
        }
      ]
    },
    {
      "cell_type": "code",
      "source": [
        "# let's find how many device that has the highest temperature thereby grouping\n",
        "from pyspark.sql.functions import *\n",
        "from pyspark.sql.types import *\n",
        "\n",
        "\n",
        "Batch_df.groupBy(\"Tsdevice\").agg(countDistinct(\"Temp\").alias(\"devices_count\")).show()"
      ],
      "metadata": {
        "colab": {
          "base_uri": "https://localhost:8080/"
        },
        "id": "qFj0h12TJj76",
        "outputId": "c29e5477-0c13-425d-b407-149fef94cf13"
      },
      "execution_count": 24,
      "outputs": [
        {
          "output_type": "stream",
          "name": "stdout",
          "text": [
            "+--------------------+-------------+\n",
            "|            Tsdevice|devices_count|\n",
            "+--------------------+-------------+\n",
            "|\"1.59452496005098...|            1|\n",
            "|\"1.59455160255505...|            1|\n",
            "|\"1.59482533195824...|            1|\n",
            "|\"1.59483897429002...|            1|\n",
            "|\"1.59487127495136...|            1|\n",
            "|\"1.59487128679406...|            1|\n",
            "|\"1.59453095631002...|            1|\n",
            "|\"1.59457600258627...|            1|\n",
            "|\"1.59457845300001...|            1|\n",
            "|\"1.59459310240455...|            1|\n",
            "|\"1.59465516904282...|            1|\n",
            "|\"1.59466583917450...|            1|\n",
            "|\"1.59483756707918...|            1|\n",
            "|\"1.59459084007783...|            1|\n",
            "|\"1.59455132218290...|            1|\n",
            "|\"1.59465414743181...|            1|\n",
            "|\"1.59478061339207...|            1|\n",
            "|\"1.59481121126203...|            1|\n",
            "|\"1.59483560211041...|            1|\n",
            "|\"1.59460478521667...|            1|\n",
            "+--------------------+-------------+\n",
            "only showing top 20 rows\n",
            "\n"
          ]
        }
      ]
    },
    {
      "cell_type": "code",
      "source": [
        "from pyspark.sql import functions as F\n",
        "\n",
        "# Assuming batch_df is your DataFrame and \"Humidity\" is the column you want to cast to float\n",
        "Batch_df = Batch_df.withColumn(\"Humidity\", F.col(\"Humidity\").cast(\"float\"))\n",
        "\n",
        "# Show the result\n",
        "Batch_df.show()"
      ],
      "metadata": {
        "colab": {
          "base_uri": "https://localhost:8080/"
        },
        "id": "JWziH6siLZRV",
        "outputId": "2d8d84f4-645b-4605-d238-65be4e2d9fa2"
      },
      "execution_count": 25,
      "outputs": [
        {
          "output_type": "stream",
          "name": "stdout",
          "text": [
            "+--------------------+--------------------+--------+---------+--------------------+---------+--------------------+--------------------+\n",
            "|            Tsdevice|                  Co|Humidity|    Light|                 Lpg|   Motion|               Smoke|                Temp|\n",
            "+--------------------+--------------------+--------+---------+--------------------+---------+--------------------+--------------------+\n",
            "|\"1.59451209438597...|\"\"0.0049559386483...|    NULL|\"\"false\"\"|\"\"0.0076508222705...|\"\"false\"\"|\"\"0.0204112701224...|           \"\"22.7\"\"\"|\n",
            "|\"1.59451209473556...|\"\"0.0028400886071...|    NULL|\"\"false\"\"|\"\"0.0051143834009...|\"\"false\"\"|\"\"0.0132748367048...|\"\"19.700000762939...|\n",
            "|\"1.59451209807357...|\"\"0.0049760123404...|    NULL|\"\"false\"\"|\"\"0.0076732274063...|\"\"false\"\"|\"\"0.0204751255761...|           \"\"22.6\"\"\"|\n",
            "|\"1.59451209958914...|\"\"0.0044030268296...|    NULL| \"\"true\"\"|\"\"0.0070233371458...|\"\"false\"\"|\"\"0.0186282253770...|           \"\"27.0\"\"\"|\n",
            "|\"1.59451210176123...|\"\"0.0049673636419...|    NULL|\"\"false\"\"|\"\"0.0076635772823...|\"\"false\"\"|\"\"0.0204476208102...|           \"\"22.6\"\"\"|\n",
            "|\"1.59451210446841...|\"\"0.0043910039545...|    NULL| \"\"true\"\"|\"\"0.0070094585431...|\"\"false\"\"|\"\"0.0185889075400...|           \"\"27.0\"\"\"|\n",
            "|\"1.59451210544886...|\"\"0.0049760251182...|    NULL|\"\"false\"\"|\"\"0.0076732416602...|\"\"false\"\"|\"\"0.0204751662043...|           \"\"22.6\"\"\"|\n",
            "|\"1.59451210686907...|\"\"0.0029381156266...|    NULL|\"\"false\"\"|\"\"0.0052414818417...|\"\"false\"\"|\"\"0.0136275211320...|\"\"19.700000762939...|\n",
            "|\"1.59451210827538...|\"\"0.0043454713595...|    NULL| \"\"true\"\"|\"\"0.0069568023772...|\"\"false\"\"|\"\"0.0184397819021...|           \"\"27.0\"\"\"|\n",
            "|\"1.59451210913668...|\"\"0.0049702557644...|    NULL|\"\"false\"\"|\"\"0.0076668047981...|\"\"false\"\"|\"\"0.0204568196070...|           \"\"22.6\"\"\"|\n",
            "|\"1.59451211279851...|\"\"0.0049602086559...|    NULL|\"\"false\"\"|\"\"0.0076555903135...|\"\"false\"\"|\"\"0.0204248581520...|           \"\"22.6\"\"\"|\n",
            "|\"1.59451211528854...|\"\"0.0043830438373...|    NULL| \"\"true\"\"|\"\"0.0070002640007...|\"\"false\"\"|\"\"0.0185628624857...|           \"\"27.0\"\"\"|\n",
            "|\"1.59451211649826...|\"\"0.0049716449493...|    NULL|\"\"false\"\"|\"\"0.0076683548991...|\"\"false\"\"|\"\"0.0204612376699...|           \"\"22.6\"\"\"|\n",
            "|\"1.59451211909801...|\"\"0.0044514976308...|    NULL| \"\"true\"\"|\"\"0.0070791835001...|\"\"false\"\"|\"\"0.0187864905644...|           \"\"27.0\"\"\"|\n",
            "|\"1.59451212018493...|\"\"0.0049645645184...|    NULL|\"\"false\"\"|\"\"0.0076604530556...|\"\"false\"\"|\"\"0.0204387166506...|           \"\"22.6\"\"\"|\n",
            "|\"1.59451212278573...|\"\"0.0029050147565...|    NULL|\"\"false\"\"|\"\"0.0051986974792...|\"\"false\"\"|\"\"0.0135087333295...|\"\"19.700000762939...|\n",
            "|\"1.59451212387261...|\"\"0.0049759834197...|    NULL|\"\"false\"\"|\"\"0.0076731951447...|\"\"false\"\"|\"\"0.0204750336202...|           \"\"22.6\"\"\"|\n",
            "|\"1.59451212756018...|\"\"0.0049602086559...|    NULL|\"\"false\"\"|\"\"0.0076555903135...|\"\"false\"\"|\"\"0.0204248581520...|           \"\"22.6\"\"\"|\n",
            "|\"1.59451212937415...|\"\"0.0044393227660...|    NULL| \"\"true\"\"|\"\"0.0070651719347...|\"\"false\"\"|\"\"0.0187467746098...|           \"\"27.0\"\"\"|\n",
            "|\"1.59451213124780...|\"\"0.0049561192016...|    NULL|\"\"false\"\"|\"\"0.0076510239057...|\"\"false\"\"|\"\"0.0204118447333...|           \"\"22.6\"\"\"|\n",
            "+--------------------+--------------------+--------+---------+--------------------+---------+--------------------+--------------------+\n",
            "only showing top 20 rows\n",
            "\n"
          ]
        }
      ]
    },
    {
      "cell_type": "code",
      "source": [
        "#initial_data(batch_df)\n",
        "\n",
        "spark.stop()"
      ],
      "metadata": {
        "id": "gNlxOklQNyL6"
      },
      "execution_count": 27,
      "outputs": []
    },
    {
      "cell_type": "code",
      "source": [
        "from pyspark.sql import SparkSession, functions as F\n",
        "from cassandra.cluster import Cluster\n",
        "from cassandra.auth import PlainTextAuthProvider\n",
        "\n",
        "def initialize_cassandra_session():\n",
        "    \"\"\"\n",
        "    Initializes and returns a Cassandra session.\n",
        "    Ensure the Cassandra cluster is accessible through the specified host and port.\n",
        "    \"\"\"\n",
        "    auth_provider = PlainTextAuthProvider(username='username', password='cassandra')\n",
        "    cluster = Cluster(['0.tcp.eu.ngrok.io'], port=18718, auth_provider=auth_provider)\n",
        "    session = cluster.connect()\n",
        "    return session\n",
        "\n",
        "def process_and_insert_data(dat, Batch_df):\n",
        "    \"\"\"\n",
        "    Processes the provided DataFrame and inserts the aggregated data into Cassandra.\n",
        "    \"\"\"\n",
        "    # Create aggregates\n",
        "    agg_df = Batch_df.groupBy(\"device\").agg(\n",
        "        F.avg('co').alias('avg_co'),\n",
        "        F.avg('humidity').alias('avg_humidity'),\n",
        "        F.avg('lpg').alias('avg_lpg'),\n",
        "        F.avg('smoke').alias('avg_smoke'),\n",
        "        F.sum(F.when(F.col('light') == 'true', 1).otherwise(0)).alias('light_true'),\n",
        "        F.sum(F.when(F.col('light') == 'false', 1).otherwise(0)).alias('light_false'),\n",
        "        F.sum(F.when(F.col('motion') == 'true', 1).otherwise(0)).alias('motion_true'),\n",
        "        F.sum(F.when(F.col('motion') == 'false', 1).otherwise(0)).alias('motion_false')\n",
        "    ).collect()\n",
        "\n",
        "    session = initialize_cassandra_session()\n",
        "    session.execute(\"CREATE KEYSPACE IF NOT EXISTS batch WITH REPLICATION = {'class': 'SimpleStrategy', 'replication_factor': 3}\")\n",
        "    session.execute(\"\"\"CREATE TABLE IF NOT EXISTS batch.sensors (\n",
        "        device_id text PRIMARY KEY, date timestamp, lpg float, smoke float, humidity float, co float,\n",
        "        light_true int, light_false int, motion_true int, motion_false int)\"\"\")\n",
        "\n",
        "    # Insert data\n",
        "    for row in agg_df:\n",
        "        session.execute(\n",
        "            \"\"\"\n",
        "            INSERT INTO batch.sensors (device_id, date, lpg, smoke, humidity, co, light_true, light_false, motion_true, motion_false)\n",
        "            VALUES (%s, %s, %s, %s, %s, %s, %s, %s, %s, %s)\n",
        "            \"\"\",\n",
        "            (row['device'], dat, row['avg_lpg'], row['avg_smoke'], row['avg_humidity'], row['avg_co'],\n",
        "             row['light_true'], row['light_false'], row['motion_true'], row['motion_false'])\n",
        "        )\n",
        "\n",
        "    print(\"Data inserted into Cassandra for date:\", dat)\n",
        "\n",
        "def main(spark, Batch_df):\n",
        "    # Example usage with a specific date\n",
        "    process_and_insert_data('2024-04-02', Batch_df)  # Replace '2023-01-01' with your actual date variable\n",
        "\n",
        "\n",
        "\n",
        "if Batch_df== \"_main_\":\n",
        "    spark = SparkSession.builder.appName(\"My_data_Batch_Processing\").getOrCreate()\n",
        "    # Assuming you've loaded your DataFrame 'df' here\n",
        "    # df = spark.read.csv(\"your_csv_file_path.csv\", header=True, inferSchema=True)\n",
        "\n",
        "\n",
        "    main(spark, Batch_df)  # Pass 'df' as an argument to 'main'"
      ],
      "metadata": {
        "id": "3z7bWqu5Ud8X"
      },
      "execution_count": 26,
      "outputs": []
    }
  ]
}